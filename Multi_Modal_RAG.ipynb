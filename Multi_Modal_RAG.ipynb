{
 "cells": [
  {
   "cell_type": "markdown",
   "id": "fd23ed3b-5f89-440b-8f81-d761621c66a1",
   "metadata": {},
   "source": [
    "# Multi-modal RAG\n",
    "\n",
    "\n",
    "## Overview\n",
    "\n",
    "Many documents contain a mixture of content types, including text, tables, and images. \n",
    "\n",
    "Semi-structured data can be challenging for [conventional RAG](https://github.com/TCLee/rag-langchain) for at least two reasons:\n",
    "\n",
    "* Text splitting may break up tables, corrupting the data in retrieval.\n",
    "* Embedding tables may pose challenges for semantic similarity search.\n",
    "\n",
    "And the information captured in images is typically lost.\n",
    "\n",
    "With the emergence of more affordable multimodal LLMs, like [Gemini 1.5 Flash](https://ai.google.dev/gemini-api/docs/models/gemini#gemini-1.5-flash) and [GPT-4o mini](https://platform.openai.com/docs/models/gpt-4o-mini), it is worth considering how to utilize images in RAG.\n",
    "\n",
    "In this notebook, we will:\n",
    "* Use a multimodal LLM such as [Gemini 1.5 Flash](https://ai.google.dev/gemini-api/docs/models/gemini#gemini-1.5-flash) to produce text summaries from images.\n",
    "* Embed and retrieve image summaries with a reference to the raw image.\n",
    "* Pass raw images and text chunks to a multimodal LLM for answer synthesis. \n",
    "\n",
    "Read the \n",
    "[LangChain blog post](https://blog.langchain.dev/semi-structured-multi-modal-rag/) \n",
    "to see other options for handling images in your documents.\n",
    "\n",
    "More specifically, we will:\n",
    "* Use [Unstructured](https://docs.unstructured.io) to parse images, text, and tables from PDF document.\n",
    "* Use LangChain's [Multi-Vector Retriever](https://python.langchain.com/docs/modules/data_connection/retrievers/multi_vector) to store raw text, tables and images along with their summaries for retrieval.\n",
    "* Use [Gemini 1.5 Flash](https://ai.google.dev/gemini-api/docs/models/gemini#gemini-1.5-flash) for both image summarization (for retrieval) as well as final answer synthesis from join review of images and texts (or tables).\n",
    "\n",
    "![Multi-modal RAG: Different strategies for dealing with images](img/multi_modal_options.png)\n",
    "\n",
    "> **Figure 1**: Image from [LangChain](https://blog.langchain.dev/semi-structured-multi-modal-rag/#multi-vector-retriever). Shows the 3 different strategies for dealing with images in documents. We will be using `Option 3` in this notebook.\n",
    "\n",
    "<br />\n",
    "\n",
    "The code in this notebook is adapted from the \n",
    "[LangChain cookbook](https://github.com/langchain-ai/langchain/blob/master/cookbook/Multi_modal_RAG.ipynb)."
   ]
  },
  {
   "cell_type": "markdown",
   "id": "9d63639f-7af0-4971-9542-2cd76910dd89",
   "metadata": {},
   "source": [
    "## Setup\n",
    "\n",
    "Before we begin, please make sure you have setup the `.env` file in the project \n",
    "directory as described in [`README.md`](README.md).\n",
    "\n",
    "Next, we will load in the necessary environment variables (e.g., API keys) for this notebook:"
   ]
  },
  {
   "cell_type": "code",
   "execution_count": null,
   "id": "5fb5c397-a230-4046-9137-45b4ee58f681",
   "metadata": {},
   "outputs": [],
   "source": [
    "# https://ipython.org/ipython-doc/3/config/extensions/autoreload.html\n",
    "%load_ext autoreload\n",
    "%autoreload all"
   ]
  },
  {
   "cell_type": "code",
   "execution_count": 3,
   "id": "9ca59d65-2e5a-496a-9992-4fe09ecb6922",
   "metadata": {},
   "outputs": [],
   "source": [
    "import os\n",
    "from dotenv import load_dotenv\n",
    "\n",
    "_ = load_dotenv()\n",
    "\n",
    "assert os.environ.get(\"GOOGLE_API_KEY\")"
   ]
  },
  {
   "cell_type": "markdown",
   "id": "8afbb58b-ad5d-4d41-b739-cd4bc5e47bce",
   "metadata": {},
   "source": [
    "## Data Ingestion\n",
    "\n",
    "We will use [Unstructured](https://docs.unstructured.io/open-source/introduction/overview) to partition and chunk a PDF document that includes texts, tables and images.\n",
    "\n",
    "The PDF document we will be using is a [subset](data/input-docs/LLaVA-subset.pdf) (9 pages) of the original [LLaVA paper](https://arxiv.org/pdf/2304.08485.pdf) (25 pages). `LLaVA` is an open source multi-modal LLM that can also be used for multi-modal RAG in place of `Gemini 1.5 Flash`.\n",
    "\n",
    "We will create a data ingestion pipeline to load, partition and chunk the PDF document."
   ]
  },
  {
   "cell_type": "code",
   "execution_count": 4,
   "id": "5d9a2e4c-89d3-4b99-a930-2a7f78c78c11",
   "metadata": {},
   "outputs": [],
   "source": [
    "from unstructured.ingest.v2.pipeline.pipeline import Pipeline\n",
    "from unstructured.ingest.v2.interfaces import ProcessorConfig\n",
    "from unstructured.ingest.v2.processes.connectors.local import (\n",
    "    LocalIndexerConfig,\n",
    "    LocalDownloaderConfig,\n",
    "    LocalConnectionConfig,\n",
    "    LocalUploaderConfig\n",
    ")\n",
    "from unstructured.ingest.v2.processes.partitioner import PartitionerConfig\n",
    "from unstructured.ingest.v2.processes.chunker import ChunkerConfig\n",
    "\n",
    "\n",
    "def create_data_ingestion_pipeline(\n",
    "    input_pdf_path: str,\n",
    "    output_dir: str,\n",
    "    image_output_dir: str,\n",
    ") -> Pipeline:\n",
    "    \"\"\"\n",
    "    Creates a data ingestion pipeline. \n",
    "    \n",
    "    The data ingestion pipeline runs the \n",
    "    following tasks:\n",
    "    1. Loads in a PDF document.\n",
    "    2. Partitions the PDF using Unstructured's `hi_res` \n",
    "       strategy into elements (text, tables, images).\n",
    "    3. Chunks the PDF by title.\n",
    "    4. Writes the partitioned and chunked elements \n",
    "       to a JSON file.\n",
    "\n",
    "    Args:\n",
    "        input_pdf_path: Path to the PDF document.\n",
    "        output_dir: Path to directory to write the results \n",
    "            JSON file to.\n",
    "        image_output_dir: Path to directory to save the \n",
    "            extracted images to.\n",
    "\n",
    "    Returns:\n",
    "        A data ingestion pipeline that can be run.\n",
    "    \"\"\"\n",
    "    return Pipeline.from_configs(\n",
    "        context=ProcessorConfig(\n",
    "            verbose=True,\n",
    "            tqdm=True,\n",
    "        ),\n",
    "        indexer_config=LocalIndexerConfig(\n",
    "            input_path=input_pdf_path,\n",
    "        ),\n",
    "        downloader_config=LocalDownloaderConfig(),\n",
    "        source_connection_config=LocalConnectionConfig(),\n",
    "        partitioner_config=PartitionerConfig(\n",
    "            partition_by_api=False,\n",
    "            strategy=\"hi_res\",        \n",
    "            additional_partition_args={\n",
    "                \"languages\": [\"eng\"],            \n",
    "                \"extract_images_in_pdf\": True,\n",
    "                \"extract_image_block_types\": [\"Image\", \"Table\"],\n",
    "                \"extract_image_block_output_dir\": image_output_dir,\n",
    "            }\n",
    "        ),\n",
    "        chunker_config=ChunkerConfig(\n",
    "            chunking_strategy=\"by_title\",\n",
    "            # Chunking params to aggregate text blocks\n",
    "            # Attempt to create a new chunk 3800 chars\n",
    "            # Attempt to keep chunks > 2000 chars\n",
    "            chunk_max_characters=4000,\n",
    "            chunk_new_after_n_chars=3800,\n",
    "            chunk_combine_text_under_n_chars=2000\n",
    "        ),\n",
    "        uploader_config=LocalUploaderConfig(\n",
    "            output_dir=output_dir,\n",
    "        ),\n",
    "    )"
   ]
  },
  {
   "cell_type": "markdown",
   "id": "1fe9eccd-fcdf-4d00-895c-d0ab8a95478b",
   "metadata": {},
   "source": [
    "Parsing and extracting a complex PDF document with tables and images will take some time. This process will run on your local machine."
   ]
  },
  {
   "cell_type": "code",
   "execution_count": 5,
   "id": "3a5346a9-f7c5-4b4b-a24c-7d77feb2a477",
   "metadata": {},
   "outputs": [],
   "source": [
    "# Set to `True` if you want to re-run the partition and chunking step.\n",
    "# Leave it as `False` to re-use existing results.\n",
    "RUN_PARTITION_CHUNKING_STEP = False\n",
    "\n",
    "if RUN_PARTITION_CHUNKING_STEP:\n",
    "    ingest_pipeline = create_data_ingestion_pipeline(\n",
    "        input_pdf_path=\"data/input-docs/LLaVA-subset.pdf\",\n",
    "        output_dir=\"data/ingest-output/\",\n",
    "        image_output_dir=\"data/ingest-output/images\",\n",
    "    )\n",
    "    ingest_pipeline.run()"
   ]
  },
  {
   "cell_type": "markdown",
   "id": "890ab66e-d51f-4e76-bc63-163e3f0ed24d",
   "metadata": {},
   "source": [
    "The data ingestion pipeline will write the partitioned and chunked results to a JSON file in the output directory that we specified previously.\n",
    "\n",
    "To \"rehydrate\" elements in JSON form into in-memory objects, use `elements_from_json`:"
   ]
  },
  {
   "cell_type": "code",
   "execution_count": 6,
   "id": "a1812aa1-ceb4-4dfa-b0c8-6bb9e63072ea",
   "metadata": {},
   "outputs": [],
   "source": [
    "from unstructured.staging.base import elements_from_json\n",
    "\n",
    "pdf_elements = elements_from_json(\n",
    "    filename=\"data/ingest-output/LLaVA-subset.pdf.json\"\n",
    ")"
   ]
  },
  {
   "cell_type": "markdown",
   "id": "70e27c88-7529-47a4-894f-32808100dece",
   "metadata": {},
   "source": [
    "Let's examine the types of elements that was parsed from the PDF document:"
   ]
  },
  {
   "cell_type": "code",
   "execution_count": 7,
   "id": "836151a6-94e2-4c50-b1e0-c2e7386c4728",
   "metadata": {},
   "outputs": [
    {
     "data": {
      "text/plain": [
       "Counter({unstructured.documents.elements.CompositeElement: 17,\n",
       "         unstructured.documents.elements.Table: 4})"
      ]
     },
     "execution_count": 7,
     "metadata": {},
     "output_type": "execute_result"
    }
   ],
   "source": [
    "from collections import Counter\n",
    "\n",
    "Counter(\n",
    "    type(element)        \n",
    "    for element \n",
    "    in pdf_elements\n",
    ")"
   ]
  },
  {
   "cell_type": "code",
   "execution_count": 8,
   "id": "d5daf24d-f6b3-4f57-b25f-ed654d7c2477",
   "metadata": {},
   "outputs": [],
   "source": [
    "from unstructured.documents.elements import (\n",
    "    Element, \n",
    "    ElementType\n",
    ")\n",
    "\n",
    "def categorize_elements(\n",
    "    pdf_elements: list[Element]\n",
    ") -> tuple[list[str], list[str]]:\n",
    "    \"\"\"\n",
    "    Categorize partitioned elements from \n",
    "    a PDF document into tables and texts.\n",
    "    \n",
    "    Args:\n",
    "        pdf_elements: List of elements partitioned from PDF.\n",
    "\n",
    "    Returns:\n",
    "        Tuple containing the text elements' \n",
    "        contents and the table elements' contents.\n",
    "\n",
    "    \"\"\"\n",
    "    texts, tables = [], []\n",
    "    \n",
    "    for element in pdf_elements:\n",
    "        if element.category == ElementType.TABLE:\n",
    "            tables.append(element.text)\n",
    "        elif element.category == ElementType.COMPOSITE_ELEMENT:\n",
    "            texts.append(element.text)\n",
    "            \n",
    "    return texts, tables"
   ]
  },
  {
   "cell_type": "code",
   "execution_count": 29,
   "id": "ddab5083-d8b3-49e6-9b61-700868407ccd",
   "metadata": {},
   "outputs": [],
   "source": [
    "texts, tables = categorize_elements(pdf_elements)"
   ]
  },
  {
   "cell_type": "code",
   "execution_count": 30,
   "id": "3f3049e6-27e3-405a-837e-1a0f1a39ab5f",
   "metadata": {},
   "outputs": [
    {
     "name": "stdout",
     "output_type": "stream",
     "text": [
      "Number of table elements: 4\n"
     ]
    }
   ],
   "source": [
    "print(\n",
    "    f\"Number of table elements: {len(tables)}\"\n",
    ")"
   ]
  },
  {
   "cell_type": "code",
   "execution_count": 31,
   "id": "79828833-f70b-4e25-a780-483736e85705",
   "metadata": {},
   "outputs": [
    {
     "name": "stdout",
     "output_type": "stream",
     "text": [
      "Number of text elements: 17\n"
     ]
    }
   ],
   "source": [
    "print(\n",
    "    f\"Number of text elements: {len(texts)}\"\n",
    ")"
   ]
  },
  {
   "cell_type": "markdown",
   "id": "e4e04066-166c-4e2d-8db2-82564b022ee3",
   "metadata": {},
   "source": [
    "## Generate Summaries\n",
    "\n",
    "### Text and Table summaries\n",
    "\n",
    "We'll use **Gemini 1.5 Flash** to produce table and text summaries.\n",
    "\n",
    "Summaries are used to retrieve raw tables and raw unsummarized text chunks."
   ]
  },
  {
   "cell_type": "code",
   "execution_count": 62,
   "id": "d66b7f08-9a06-4e85-aada-c749690f4295",
   "metadata": {},
   "outputs": [],
   "source": [
    "from langchain_core.output_parsers import StrOutputParser\n",
    "from langchain_core.prompts import ChatPromptTemplate\n",
    "from langchain_google_genai import ChatGoogleGenerativeAI\n",
    "\n",
    "\n",
    "def generate_summaries(\n",
    "    texts_or_tables: list[str]\n",
    ") -> list[str]:\n",
    "    \"\"\"\n",
    "    Summarize given list of texts or tables.\n",
    "\n",
    "    Args:\n",
    "        texts_or_tables: List of texts or tables to summarize.\n",
    "\n",
    "    Returns:\n",
    "        List of summary for each piece of text or table.\n",
    "    \"\"\"\n",
    "    \n",
    "    prompt_text = (\n",
    "        \"You are an assistant tasked with summarizing tables \"\n",
    "        \"and text for retrieval. These summaries will be embedded \"\n",
    "        \"and used to retrieve the raw unsummarized text or tables. \"\n",
    "        \"Give a concise summary of the table or text \"\n",
    "        \"that is optimized for retrieval.\\n\\n\"\n",
    "        \"Table or text:\\n\"\n",
    "        \"{element}\"\n",
    "    )\n",
    "    prompt = ChatPromptTemplate.from_template(\n",
    "        template=prompt_text\n",
    "    )\n",
    "\n",
    "    model = ChatGoogleGenerativeAI(\n",
    "        model=\"gemini-1.5-flash\", \n",
    "        temperature=0,\n",
    "    )\n",
    "    \n",
    "    summarize_chain = (\n",
    "        {\"element\": lambda x: x} \n",
    "        | prompt \n",
    "        | model \n",
    "        | StrOutputParser()\n",
    "    )\n",
    "\n",
    "    summaries = summarize_chain.batch(\n",
    "        inputs=texts_or_tables, \n",
    "        config={\n",
    "            \"max_concurrency\": 5\n",
    "        }\n",
    "    )\n",
    "\n",
    "    return summaries"
   ]
  },
  {
   "cell_type": "markdown",
   "id": "90410351-5f6c-4cb7-8dba-55afde1e7497",
   "metadata": {},
   "source": [
    "Note: [Gemini 1.5 Flash free tier](https://ai.google.dev/pricing) only allows at most **15 requests per minute**. So, if you are using the **free** tier, you will need to wait about a minute (**60 seconds**) between calls to summarize all the texts and tables. \n",
    " \n",
    "If you are using the **paid** tier, you will have a rate limit of **1000 requests per minute** and this should be more than enough."
   ]
  },
  {
   "cell_type": "code",
   "execution_count": 63,
   "id": "8c93ef86-4403-4688-b1f4-db541311de09",
   "metadata": {},
   "outputs": [
    {
     "name": "stdout",
     "output_type": "stream",
     "text": [
      "Number of texts to generate summaries for: 17\n"
     ]
    }
   ],
   "source": [
    "print(\n",
    "    f\"Number of texts to generate summaries for: {len(texts)}\"\n",
    ")"
   ]
  },
  {
   "cell_type": "code",
   "execution_count": 64,
   "id": "3f06e84c-48d4-4dd1-a80d-539371269238",
   "metadata": {},
   "outputs": [],
   "source": [
    "from time import sleep\n",
    "\n",
    "def generate_summaries_with_delay(\n",
    "    raw_texts: list[str],\n",
    "    max_requests: int = 15,\n",
    "    wait_time_seconds: int = 60\n",
    ") -> list[str]:\n",
    "    \"\"\"\n",
    "    Generate summaries for the raw texts with a delay to \n",
    "    avoid a rate limit error.\n",
    "\n",
    "    Args:\n",
    "        raw_texts: List of raw text chunks to generate summaries for.\n",
    "        max_requests: Maximum number of requests allowed \n",
    "            before hitting a rate limit error.\n",
    "        wait_time_seconds: Time to wait in seconds before making \n",
    "            another request.\n",
    "\n",
    "    Returns:\n",
    "        A list of summaries.\n",
    "    \"\"\"\n",
    "    # Generate summaries for the first MAX_REQUESTS text chunks.\n",
    "    text_summaries_1 = generate_summaries(\n",
    "        raw_texts[:max_requests]\n",
    "    )\n",
    "\n",
    "    # Wait for awhile before resuming to avoid rate limit error.\n",
    "    sleep(wait_time_seconds)\n",
    "\n",
    "    # Generate summaries for the remaining text chunks.\n",
    "    text_summaries_2 = generate_summaries(\n",
    "        raw_texts[max_requests:]\n",
    "    )\n",
    "\n",
    "    # Combine the generated summaries together.\n",
    "    return (\n",
    "        text_summaries_1 + text_summaries_2\n",
    "    )\n",
    "    "
   ]
  },
  {
   "cell_type": "code",
   "execution_count": 65,
   "id": "e589a54d-4c77-4825-b466-c30f180939c8",
   "metadata": {},
   "outputs": [],
   "source": [
    "# Set to True if you want to re-run the generate text summaries step.\n",
    "# Leave it as False to re-use existing results.\n",
    "RUN_SUMMARIZE_TEXTS_STEP = False\n",
    "\n",
    "if RUN_SUMMARIZE_TEXTS_STEP:\n",
    "    # Gemini 1.5 Flash free tier limits us to 15 requests \n",
    "    # per minute (60 seconds).\n",
    "    text_summaries = generate_summaries_with_delay(\n",
    "        raw_texts=texts,\n",
    "        max_requests=15,\n",
    "        wait_time_seconds=60,\n",
    "    )"
   ]
  },
  {
   "cell_type": "code",
   "execution_count": 66,
   "id": "fe8db7ca-2efb-4ddd-8240-7ff8d8bef4f2",
   "metadata": {},
   "outputs": [],
   "source": [
    "# Set to True if you want to re-run the generate table summaries step.\n",
    "# Leave it as False to re-use existing results.\n",
    "RUN_SUMMARIZE_TABLES_STEP = False\n",
    "\n",
    "if RUN_SUMMARIZE_TABLES_STEP:\n",
    "    table_summaries = generate_summaries(tables)"
   ]
  },
  {
   "cell_type": "markdown",
   "id": "51027470-d778-47d0-83c8-ff14e5aa7bd8",
   "metadata": {},
   "source": [
    "### Image summaries \n",
    "\n",
    "We will also use Gemini 1.5 Flash to generate the image summaries.\n",
    "\n",
    "> See also: [How to pass multimodal data directly to models](https://python.langchain.com/v0.2/docs/how_to/multimodal_inputs/)"
   ]
  },
  {
   "cell_type": "code",
   "execution_count": 67,
   "id": "f89c8e00-1fec-4eac-b186-29f1687d2ad5",
   "metadata": {},
   "outputs": [],
   "source": [
    "from langchain_core.messages import HumanMessage\n",
    "\n",
    "def summarize_image(\n",
    "    image_base64: str, \n",
    "    prompt: str\n",
    ") -> str:\n",
    "    \"\"\"\n",
    "    Generate a summary for a given image.\n",
    "\n",
    "    Args:\n",
    "        image_base64: Image encoded as a Base64 string.\n",
    "        prompt: The prompt given to the LLM to summarize the image.\n",
    "\n",
    "    Returns:\n",
    "        Summary or brief description of the image.\n",
    "    \"\"\"    \n",
    "    model = ChatGoogleGenerativeAI(\n",
    "        model=\"gemini-1.5-flash\", \n",
    "        max_tokens=1024        \n",
    "    )\n",
    "\n",
    "    message = model.invoke(\n",
    "        input=[\n",
    "            HumanMessage(\n",
    "                content=[\n",
    "                    {\n",
    "                        \"type\": \"text\", \n",
    "                        \"text\": prompt\n",
    "                    },\n",
    "                    {\n",
    "                        \"type\": \"image_url\",\n",
    "                        \"image_url\": {\n",
    "                            \"url\": f\"data:image/jpeg;base64,{image_base64}\"\n",
    "                        },\n",
    "                    },\n",
    "                ]\n",
    "            )\n",
    "        ]\n",
    "    )\n",
    "    \n",
    "    return message.content"
   ]
  },
  {
   "cell_type": "code",
   "execution_count": 68,
   "id": "381847ef-1461-4587-8790-e01f439a55fe",
   "metadata": {},
   "outputs": [],
   "source": [
    "from typing import Iterable\n",
    "from pathlib import Path\n",
    "\n",
    "from utils import encode_image\n",
    "\n",
    "\n",
    "def generate_image_summaries(\n",
    "    image_paths: Iterable[Path]\n",
    ") -> tuple[list[str], list[str]]:\n",
    "    \"\"\"\n",
    "    Generate summaries and base64 encoded strings for images\n",
    "\n",
    "    Args:\n",
    "        image_paths: Paths to the images.\n",
    "\n",
    "    Returns:\n",
    "        Tuple containing a list of images encoded as Base64 string,\n",
    "        and a list of summaries for the respective images.\n",
    "    \n",
    "    \"\"\"\n",
    "    # Store base64 encoded images\n",
    "    image_base64_list = []\n",
    "\n",
    "    # Store image summaries\n",
    "    image_summaries = []\n",
    "    \n",
    "    prompt = (\n",
    "        \"You are an assistant tasked with summarizing images \"\n",
    "        \"for retrieval. These summaries will be embedded and \"\n",
    "        \"used to retrieve the raw image. Give a concise summary \"\n",
    "        \"of the image that is optimized for retrieval.\"\n",
    "    )\n",
    "\n",
    "    for path in image_paths:\n",
    "        base64_image = encode_image(path)\n",
    "        image_base64_list.append(base64_image)\n",
    "\n",
    "        # Generate a summary for an image and \n",
    "        # add it to the list.\n",
    "        image_summaries.append(\n",
    "            summarize_image(\n",
    "                image_base64=base64_image, \n",
    "                prompt=prompt\n",
    "            )\n",
    "        )\n",
    "\n",
    "    return image_base64_list, image_summaries"
   ]
  },
  {
   "cell_type": "markdown",
   "id": "30d04f33-b201-49a4-883d-4a5449d8dd8b",
   "metadata": {},
   "source": [
    "List out the images extracted from the PDF document by `Unstructured` during the data ingestion step:"
   ]
  },
  {
   "cell_type": "code",
   "execution_count": 69,
   "id": "66be1a71-4ea3-41b5-a56a-90042be15c33",
   "metadata": {},
   "outputs": [
    {
     "data": {
      "text/plain": [
       "[PosixPath('data/ingest-output/images/figure-3-1.jpg'),\n",
       " PosixPath('data/ingest-output/images/figure-4-2.jpg'),\n",
       " PosixPath('data/ingest-output/images/figure-6-3.jpg'),\n",
       " PosixPath('data/ingest-output/images/figure-8-4.jpg'),\n",
       " PosixPath('data/ingest-output/images/figure-8-5.jpg')]"
      ]
     },
     "execution_count": 69,
     "metadata": {},
     "output_type": "execute_result"
    }
   ],
   "source": [
    "from pathlib import Path\n",
    "\n",
    "image_dir_path = Path(\"data/ingest-output/images\")\n",
    "sorted_image_paths = sorted(\n",
    "    # Only summarize images (figures) and not images of tables.\n",
    "    # The tables have already been summarized previously.\n",
    "    image_dir_path.glob(\"figure-*.jpg\")\n",
    ")\n",
    "sorted_image_paths"
   ]
  },
  {
   "cell_type": "code",
   "execution_count": 70,
   "id": "18130c07-1480-4e26-889e-19453edf89ea",
   "metadata": {},
   "outputs": [],
   "source": [
    "# Set to True, if you want to re-run the generate summary \n",
    "# for images step. Leave it as False, to re-use previous results.\n",
    "RUN_SUMMARIZE_IMAGES_STEP = False\n",
    "\n",
    "if RUN_SUMMARIZE_IMAGES_STEP:\n",
    "    image_base64_list, image_summaries = generate_image_summaries(\n",
    "        image_paths=sorted_image_paths\n",
    "    )"
   ]
  },
  {
   "cell_type": "markdown",
   "id": "2f0a5c47-60d0-413f-950d-06fe4bf0cedd",
   "metadata": {},
   "source": [
    "### Save summaries to JSON\n",
    "\n",
    "Save the text, table and image summaries to JSON files. Next time round we can just load in the summaries from the JSON files. Calling the LLM API to summarize every time is expensive."
   ]
  },
  {
   "cell_type": "code",
   "execution_count": 71,
   "id": "fe13ff36-cb38-4d62-b0b3-48ddf5a934da",
   "metadata": {},
   "outputs": [],
   "source": [
    "from utils import write_to_json\n",
    "\n",
    "TEXT_SUMMARIES_PATH = \"data/summaries/text_summaries.json\"\n",
    "\n",
    "if RUN_SUMMARIZE_TEXTS_STEP:\n",
    "    # Save text summaries\n",
    "    write_to_json(\n",
    "        summaries=text_summaries,\n",
    "        json_path=TEXT_SUMMARIES_PATH\n",
    "    )"
   ]
  },
  {
   "cell_type": "code",
   "execution_count": 72,
   "id": "3c4e7ee2-03c7-432a-9c79-bd6ddcd516b1",
   "metadata": {},
   "outputs": [],
   "source": [
    "TABLE_SUMMARIES_PATH = \"data/summaries/table_summaries.json\"\n",
    "\n",
    "if RUN_SUMMARIZE_TABLES_STEP:\n",
    "    # Save table summaries\n",
    "    write_to_json(\n",
    "        summaries=table_summaries,\n",
    "        json_path=TABLE_SUMMARIES_PATH\n",
    "    )"
   ]
  },
  {
   "cell_type": "code",
   "execution_count": 73,
   "id": "70f54852-c51a-4099-bc07-736779e23e67",
   "metadata": {},
   "outputs": [],
   "source": [
    "IMAGE_SUMMARIES_PATH = \"data/summaries/image_summaries.json\"\n",
    "IMAGES_BASE64_PATH = \"data/summaries/images_base64.json\"\n",
    "\n",
    "if RUN_SUMMARIZE_IMAGES_STEP:\n",
    "    # Save image summaries\n",
    "    write_to_json(\n",
    "        summaries=image_summaries,\n",
    "        json_path=IMAGE_SUMMARIES_PATH\n",
    "    )\n",
    "    # Save raw images encoded as Base64 string\n",
    "    write_to_json(\n",
    "        summaries=image_base64_list,\n",
    "        json_path=IMAGES_BASE64_PATH\n",
    "    )"
   ]
  },
  {
   "cell_type": "markdown",
   "id": "0a51bf4a-4afa-46c2-b810-fc53267d6337",
   "metadata": {},
   "source": [
    "### Load summaries from JSON\n",
    "\n",
    "Load in the previously generated text and table summaries:"
   ]
  },
  {
   "cell_type": "code",
   "execution_count": 74,
   "id": "6602c463-318a-48c5-9c3e-d40cc1410541",
   "metadata": {},
   "outputs": [],
   "source": [
    "from utils import read_from_json\n",
    "\n",
    "text_summaries = read_from_json(TEXT_SUMMARIES_PATH)\n",
    "table_summaries = read_from_json(TABLE_SUMMARIES_PATH)"
   ]
  },
  {
   "cell_type": "markdown",
   "id": "6182743d-af0b-47ae-99c8-c2dc70218394",
   "metadata": {},
   "source": [
    "Let's take a look at one generated text summary:"
   ]
  },
  {
   "cell_type": "code",
   "execution_count": 75,
   "id": "5593b243-0b6c-4da3-ac21-a51f3f157c88",
   "metadata": {},
   "outputs": [
    {
     "data": {
      "text/markdown": [
       ">LLaVA is a multimodal language model that combines a vision encoder and an LLM for visual and language understanding. It was trained on language-only GPT-4 generated multimodal instruction-following data. LLaVA demonstrates impressive multimodal chat abilities and achieves state-of-the-art accuracy on Science QA. The model, code, and GPT-4 generated data are publicly available. \n"
      ],
      "text/plain": [
       "<IPython.core.display.Markdown object>"
      ]
     },
     "execution_count": 75,
     "metadata": {},
     "output_type": "execute_result"
    }
   ],
   "source": [
    "from IPython.display import Markdown\n",
    "\n",
    "Markdown(\">\" + text_summaries[0])"
   ]
  },
  {
   "cell_type": "markdown",
   "id": "f1225324-3596-4825-bed6-70658e016ed7",
   "metadata": {},
   "source": [
    "Summary generated for a table:"
   ]
  },
  {
   "cell_type": "code",
   "execution_count": 76,
   "id": "584add35-0a2b-4b84-8dfc-63537d7e7559",
   "metadata": {},
   "outputs": [
    {
     "data": {
      "text/markdown": [
       ">This table shows the performance of a model on a conversation task, with different levels of detail and complex reasoning. The model was trained with and without instruction tuning. The results show that instruction tuning improves performance across all metrics, with the largest gains in detail and complex reasoning. The model performs best with full data, followed by detail + complex, and then conversation. The model performs worst with no instruction tuning. \n"
      ],
      "text/plain": [
       "<IPython.core.display.Markdown object>"
      ]
     },
     "execution_count": 76,
     "metadata": {},
     "output_type": "execute_result"
    }
   ],
   "source": [
    "Markdown(\">\" + table_summaries[0])"
   ]
  },
  {
   "cell_type": "markdown",
   "id": "81133a80-83f7-48cb-89d6-f33c14d06d37",
   "metadata": {},
   "source": [
    "Load in the previously generated summaries for the images and the raw images encoded as Base64 string:"
   ]
  },
  {
   "cell_type": "code",
   "execution_count": 83,
   "id": "1714ff37-f37e-476f-aae2-beac2051c7ab",
   "metadata": {},
   "outputs": [],
   "source": [
    "image_summaries = read_from_json(\n",
    "    json_path=IMAGE_SUMMARIES_PATH\n",
    ")\n",
    "image_base64_list = read_from_json(\n",
    "    json_path=IMAGES_BASE64_PATH\n",
    ")"
   ]
  },
  {
   "cell_type": "code",
   "execution_count": 84,
   "id": "72b60023-16f8-4a70-8792-3b90fd60a436",
   "metadata": {},
   "outputs": [
    {
     "name": "stdout",
     "output_type": "stream",
     "text": [
      "Image summaries count: 5\n",
      "Images count: 5\n"
     ]
    }
   ],
   "source": [
    "print(\n",
    "    f\"Image summaries count: {len(image_summaries)}\\n\"\n",
    "    f\"Images count: {len(image_base64_list)}\"\n",
    ")"
   ]
  },
  {
   "cell_type": "markdown",
   "id": "10ff0773-e003-437e-bfb7-91bce67f8a5b",
   "metadata": {},
   "source": [
    "Let's examine an image and its corresponding summary:"
   ]
  },
  {
   "cell_type": "code",
   "execution_count": 85,
   "id": "cc1b6632-90a2-4d0c-afd7-7bb5c349a7be",
   "metadata": {},
   "outputs": [
    {
     "data": {
      "text/html": [
       "<img src=\"data:image/jpeg;base64,/9j/4AAQSkZJRgABAQAAAQABAAD/2wBDAAgGBgcGBQgHBwcJCQgKDBQNDAsLDBkSEw8UHRofHh0aHBwgJC4nICIsIxwcKDcpLDAxNDQ0Hyc5PTgyPC4zNDL/2wBDAQkJCQwLDBgNDRgyIRwhMjIyMjIyMjIyMjIyMjIyMjIyMjIyMjIyMjIyMjIyMjIyMjIyMjIyMjIyMjIyMjIyMjL/wAARCACeAPsDASIAAhEBAxEB/8QAHwAAAQUBAQEBAQEAAAAAAAAAAAECAwQFBgcICQoL/8QAtRAAAgEDAwIEAwUFBAQAAAF9AQIDAAQRBRIhMUEGE1FhByJxFDKBkaEII0KxwRVS0fAkM2JyggkKFhcYGRolJicoKSo0NTY3ODk6Q0RFRkdISUpTVFVWV1hZWmNkZWZnaGlqc3R1dnd4eXqDhIWGh4iJipKTlJWWl5iZmqKjpKWmp6ipqrKztLW2t7i5usLDxMXGx8jJytLT1NXW19jZ2uHi4+Tl5ufo6erx8vP09fb3+Pn6/8QAHwEAAwEBAQEBAQEBAQAAAAAAAAECAwQFBgcICQoL/8QAtREAAgECBAQDBAcFBAQAAQJ3AAECAxEEBSExBhJBUQdhcRMiMoEIFEKRobHBCSMzUvAVYnLRChYkNOEl8RcYGRomJygpKjU2Nzg5OkNERUZHSElKU1RVVldYWVpjZGVmZ2hpanN0dXZ3eHl6goOEhYaHiImKkpOUlZaXmJmaoqOkpaanqKmqsrO0tba3uLm6wsPExcbHyMnK0tPU1dbX2Nna4uPk5ebn6Onq8vP09fb3+Pn6/9oADAMBAAIRAxEAPwDxuKa3jPMCnHcsc/oavC/s2iKGyicn+Mu+4fT5gKxN47ilEg/uH86VgNASwgHYpAPUCgLbt0kkRvpVJZeOMD64pwkc/wAePwoA0kieIZFxgnpgEZ/lVhUZiFV2eQjhVT0696x/NA+/IPwxThcwjO2Rs+3H8qANEyMSWKkcbc496jlmIOVAOBzg+lRRX8yqAiSuB/sf/WoYXc8e1LUqD1fG00NjSJrZ5LlA4OFbueasAiMndMij3wKojR7twd0L5AwA0n+FS/2DKE/1cIbrklmqeeHc3+q1/wCR/cy99qs41yboE47N/hUA1PT4zhHY5OcDPX8ajTRJ/LP7xFx2EOf51NFpbqp3SS4I6BAuKXPDuH1Wv/I/uY8ahAQD5Z64q5FfW7H93LEWHYnn9as2FvDawbFXaOpz1JpJdLtbicSbYgcZJIwc5o549y3hqz2pv7mTLO5OChx6gVOrqcZJHtjFY8unS2k+LW4kAIz13CpFN4v+tUOPVGIP5Hj9ah1I9y1ha/8AI/uZqTafbXYxLEHz3xUKeHr2Mr/Z8koHaNlLA1a0m+FjI4iMSiXBZLq33gkd84YD6giut0/X7mOeGJb20t43fDHzy64J77myBz/eFQ6qWzKWEqv7D+5nP2seoW8J/t3SLyO1AwblbdnjHuT1ArotP8A2viOzNxomrWs4XkxeZ09v7y/iK3W8UmGNXXW7Ig/wr979ZGFZFvceGrvxBHeXd5Pbz42+ZaNHAM5+8WA5/E1KqQb3H9Vr2+B/czF1Twbq+hyESQPtxnJx/McH9D9KxW3qxR8I69QR0r1u81DSNMhnmOtxarbEY+z/ANqkS89ejYauJ1rUfDN7tn061kt3UjcjOSCPTn+hIrWVSPcccPW/59v7mcswlTBLsAenyn+tIUZgP3qgdCCQK1NZ123vLI21ppMEB3A+YrDPXOOgrAhuZCeUaNvYHBrJzjvc0qYere0YP7mTtBzzJn35qNoB3UmnPdSjqBj1qMzO3UcfTNClfY5p05Q0mrEE8eyNmjj3OOi56mneUmA2RjHTPSlcufp/u1XYsG56VaZm0TGKMN1/8d/+vSDyxjK7vfIH9KgeTapY8gDopyaQBiMggD3Ip6sRYc24Qko+fQOP8KYHix/qlP1qCXGB+8QH0wf8Kj3D/nqn6/4U9SWcphzx0/OlCHj5s5q7nJAxzQwOcbAwrYxK4iHG4t7c1KkMJHKkn3JNSGCMAfLg+3FPWBccFh/wI0AEcUQ+7Gv/AHyKtRIVxtBH04qKOD5v9a4/EVoRqPaiyAljt3IDbgMjNTpByO+KmiXMS49KsWuonTZ/NjdVcgrlh69aiWxvRtzq5k39xNbF2VWKlsYOMZ5/GqC6pdysqRxxgtwoOTmte+VWi5/v/wCNUQ7QyhoSoY9woqI25Ub4hy9tPXq/zF8rW3XhFUe2OP1po0zWGYN58ox/004/nT21K8jBZpMp3IXlaoHxDftLiJgVJ4yvJq0uxh7Rli50zUordnmnkZAectmo9Mmu7S48y1+aR/ly67v07VM2raj5a7S28j5gRgD9fpSy3+pwpC0OwSum6QkgHJY45z6Yp2D2hb83Vp5neWJAQcfMpXP4VG+oT2mBNakgnqD/APrqqb/VJOXMYb1LA5/8eqF7m/kUpIsbAjsy/wBTRyIXtZN6M6Ww8S6a4WORjA/T94vH5/412mjaNHrV9bW0ih4pnGSADwe4NePXQkeDdchiwPXjp9RU9nr+taft+zanewKvC+XOy7R2xg8VMoJlxnJ9T3DVfAmp6VB5ljeOsQUN5co3gHHQZyB+AriJpdUtLg+fBE5H8UfBz/n2rkbjxZr1zu/4nmpoGOSou5SD/wCPVd03xJIloILqZpG3EmSVySc/gTWbp22GqsupoXGsztkSxt04yM4qg2rnoywkejRL/UUy41q3kukjjhYhiFLk4Xr1H+RTpbZWI27D3HzdRRZLcSnJ7MijvkQ5jm8sn+FwGA/PpU41WQja8uQe8b/06/lWXc2mxGO35h020trZPPEjrsGVyxYjrT5VuHtJGlHcFi7LclwFJIbJI/So1u4mP3/m78E0rWEsFnNNviZhGwVllU/19qZDpt5LgxKzfMQ2Og49enY1Kim2b1ZP2NP5/mSfaI+7c/SgurDOfxqN7WdG2SBlP+02M042czgbGAI65kH+NO0e5z3Y1ptpxv8A0pglzkE5PfbUstrIWP3ef+mi/wCNZs2l3RkO0Jj081f8aa5RPm7Fl5QpH7uT8QP8Kb56j+Ej8v8ACqX9kXZ42L/38X/Gnf2Pff3E/wC/q/41Xu9yfeKw5p496iViVHbP6VLWqMh7qVWMkEbhke4yR/SlWmsflHtxQtMCxHyatxnpVOM/NVtKQGkjhIAzHAx1pNis3zKGwe4zUkCB7dQQCD6/WhRljjsTUSehvT+JEV1jZgj+OqLRYdefWr96CsO7/aFUmb5h9DWcfhRriP40/V/mVtQ2xWD9ySB/OsqyXatxJ/EiHB/4Cf8A61XdYfMUcQP3jux/n61XsIvNiuRnAYbc+nSto7HM9ylFPNLKq7ssTgGuv0vTPtocG+mh2Y5ALE5OB3FYUOnC2ZZ9zFFPUjjNdBp91HDZX8ysrhEj+6w/v1NRvl0IegmopZWV79mXWbvAAOxrRZCfxBFSaZb22o7o7fUWd0Vm/eWe3OP+B1mrcwyat9snHGBjcehHp711uk6JFJcNdtdSKLiA7tqdAy9RzWb5lG7f5DnG0bpnKau8KQtAhilYnBZM/L+n4daxo4mmj2jJYkAfnW14i0u10Bks4LuS4af94fMXGwDIHfvk/lXOpLKjB0kZSCDkHGDW6WhcJ8srgsa5O59vWt7whDDd3l8JIY5zHal1WRNwB3Lz+RNc3Ll8sRlick+tbnhW4uLD+1bm3GJ0tAY8jPPmJjioqL3TOTdh13qs1netA2l6UpBGMW+eOo5zWh4fvZdWnu7R7fT4LZbaSSRkhK9BgHj0JB6djXHyM5lZpCTJu+Yk85rqvBjBjrHQH+z5iAD9M8fl/k1FWCjBtETSUW0Zy6PBKVUa/ZuW6AJMSf8AxyrZ8LQLbeY2s2eST2fjHqNuRWVo8saT7ZmCDY3zf0rcsxBIJ2Qhh5bcYHGeBTakuv5Gii31LNnposNIDRXyzmQM0flEgEgkEjcBjGAOnerEms61fwx204JhgQqiBEDEe5Ayc1XiugugWK7WJS3mkXacN/rCCB9cL+VafhC+MepXN7NLc6cTbNC9zNE8m0PhRgjAU/7RI5rC8uZ/1+qPYoxoyw1N1Xr73W3XyjIqxDy7mJJrdhAT+8EYA4zz+OK1G/sq+1eaKCKSxso0yjSsxLccDIzya6W82p4Me2bWG1NY9UIW4mly2wwDoDk4ySOvBHvXETWNr/bTXCT3UTbEePymG0kKBzwccjoeoNSqjcmm1/XzOmpgacaSqRjJ3fR3/wDbUXL7RXhjieOZJkkQONrZ2j0OCefastrSYSD5Sfoe1ezeGh4dPha0S9sY5ZmTLPuwc5NNm8N+GLxXZJ1tn/2pQfWqjLRM82vTVOrKHZtfceP/AGTOcsR/wHNPTTgygmYAn/Yr0hvDeiQzKpunlXd8xUVM2jeHNxw10B9VppmR4bpkV1qDHzopZrcDY8rAnyhyQ2ewGCffBrM+0v7fgKv/ANvX40p9MVylq8nmGNcgZ78Zx6fkPSodMshqWpW9mG8szyBN2M4z7V1ykkrs5YxbdkNicyRgt13VOorVsvDdnqDMtpqM8uzG4rZthcnAyc1pw+BLmWDz4bq5aLJAYW33sdcfNz07Vn7VW2f3P/I09jLuvvX+ZzkYwwq5HgFRnk8CtOfwv9gjinuL2cROCVb7KWHHBzhuCPQ4NEdlp3AGplif+nc/40nWiu/3P/IPYy8vvX+Zas491oh+v86f5RDHI71oW9vDYrLbyzKWhcqWPGfesu5mujqEqxPH9mxlCFBJOP8AGnBxm0ujNqcGppPuQ6iqi1G6RYycYLnFUDGjEMJoiOed4qrqsGoXN0VZmeMMApOAFXtx36/pVNtNkMSt9mkUMcKSDn6+ncVVNw5Vp+I8S17aenV/mXLqFI7tDcRJInkMy/vAueDg559OBUOkQK9ttDYZ3JJ9v8irN9PJZRW3lqr+ZZeSSyZHOQT7HB/Wq+jzwwoFeRQw7E4zyauaUZNIxnrp2NPVrua+0+LT5ynlRyCQNHGFJOCMemMGotN0t7nRdVtrQO0kix4BcDJDZxzTLzc53RI0gP8AdGat6Io8stNGUcSHAcYPQVjUb5SFDmdiunhzV5IRusgGB5BlT/Gu/wBOt5beziEigFYAp5B52ismB7X7G4MJaRm+WQORj2x36Gql54mWysoCka+a7bVEmSpAAHbpWac6itdDqU3Hd/195h6xbPqviTUW6pAqoB6HaB/PNc75Z5ODitKTUbmWa+uEcI8rGRvLOB3I69Rz3qWwhik0+WSUru3DAP0//V+tdUTNmOYSCh4AZsA1p6MCLXV8ED/Qxyf+uqU2VALYOoGUO8d+9aNvDLJb65dMY90tsWIVAgz5iE4AwB9AKire33fmVdcjT8jN0vRLTUryQ3V+tnbqASfLLMx9ABXR6LpFlp1/qZs9QN3G+nTDmJkK/d9etYdkoEPzEbepBrb0C5jlu9RgiAxHYTZx6/LV4mFqTZhKV00cYsKryBU8M0kPC4KnqCKaD1GKdHG80yQxKWkkYKqjqSTgCk33N0ux0+lWbTQ6RF5Yli8mUMrH726U4BrXPhu9uCi3Efmop44AwPxB/lV7RLCe00DTY54jFcLPtIbqPmYj+ddILafGS4zXlSnFzep7mHq1aWGhFRvrLv38mjNtvDlvlpruNJJ+isJG3BcAYzge9aAsoVjVY7WMhQAMsP6ih4bsDCkn6GqzW95nLcfU1cOX7JjiMTXqP3215E0n2qMYWPAHQBh/SqMlxdFsFAfrmnmC4B7flTQkoPOT9K0ORsdFNcA5Fsp+q/8A16s/abg9baP/AL5P+NVgbhejyAf75FO3z+rf99mnqI8ft7dnPKHHqa3fD1gq69YScgrOpxj3rYGjFD8sYZR/d5FXtNtAmoW20YIkU5x706tS8H6Co07Tj6o4e3ub6KICznuI9zZVI2I59cCtVdTv7yGV9WaURwwlEkE5gBKqSibOjA4x8oB+bJPNW/CHl/8ACazx5IAhdI16g4AAB/DmuwXUIrqVov8AhHJmheQCYJMXRlHGQhAU9/Su6N7XRytI4GIak0Fr9uX7NpaqzoifKxB4IDHLckDIJ6fUVTLx2Tm7tY9sLSbWQk4APQ8+leueI1uLyG3FnasgH3YSixrgY67hjbz2HbB9/N7rT5Lm01aNwrTRuWzHjaSAG4xxRZSTbKTsrIXX9eSDXb2Ehz5crDGxcZ+uaLC9lvZJYwhPlqpOF6ZGcH3HStPVdNguNauisNyjGRjJOzPsHGeAP8azrW0jttVYW6CWIDiVYtmeOevPByPfFYUVGNOM10SOmTlHEa9X+pY8rUiCY4EZWwVbYxOO1aBivCMxWALBcrnIIJ7GmpdeTGgAAOB1fFK2sTxjhVPp3qISjyr3TXE29tP1f5nW+GvhTpfiPw9Bd3l48GocxyR4VhxwDtPI4rzvx34Zt/COvvpCTify0RvMxt+8M/dya0pNc1CSIqttIoP8ce5SPcEHiuX1WG9uJPtE88k54w7vlvxJ/Kujn522zhmtbmJgb+GANTpPcIAFmkX/AHWI/rT0s2lk/j2EHnbnmoVt5Bu2qG2sAdvv6DqelBJaj1C+VgFmY/7zZ/nmrTTXU0A85Ini7B1QjP6Vmxb94VS2TwAOc+lWZ4StsCzzAbd2Cvy7s8/pjn3/ADVguySxgS5ujHgEeWAfruAoyIrQbeM5PXnHP+FS2pSIzvEVR9m4Anj7wPFVbmUeWiAkgKM/WqTEyzH+8iUL3OK14l22mqsoPNuBnHB/eLWRo0MlzfRhfuxfP+Pb9cV12oaRJYWeoIk3m4tSMqvAdXQ4HrzkfhUVXp935kyWhxybnsg0XORjHvWl4PVmvNUG195sJQVbqD8vFZdnFcWytDPC8ZY5VWBz/nNdb4TjtoxejZtvEilSU56r8uMD8x+FXitadyGvdkcQ1vLH/rI3T/eUir2hxltf03aMn7TGT/30K64ypDAcfNkdMVc0uNJdStykSrh9xwB2q61G1OTv0ZrRq3qRVuqItQ/4lmhRaeCSylriSVTjYNxPB9Tk4+lYmmfEK8tQLWaHzoVY7GaVg4BJIBJz0HFa3i/UYZNLmhRAJnaZSf8AZjYr+pJrzZABF75ya4cPFST5jsrSapQt/e/M9r0jX4tXtnnt3Pyj5kJ5Q5xzVpr18ZLZrzf4eSv/AGtewg/I9sWI9wy4/ma7xkI6gVDiozkkHM3CLJmvHPf+lOW+KEErmqZXHrTWbtyKZNzTGpKzfMi/jUov7fHKJn/erDJJ6HIqPB/un8qLBcyTexRnk5Yehyasadqcsup2sQQbDIoO4ZPX9KqIbKPkLu+i/wCNaOmXUBv7dUiAJkAzwKip8D9C6S9+PqcLaXb6Z4jmnt5SJomby3QAqW6cg9sZ/St6LWb14wz3Eh7deP8A6wrKTQr06jNK0W2JyzBuDj096ekF5ykUbMF5zsPr+FevSqUlTs9zilGXMdHpdm15bzXc15DBEJBHmXccsQT/AAg+lX9L0m3tGmY6vZtHITgBZBjBI7r74/CsZUvoPCErMjK/29Owxjy2qO2SaO0BuS0m99ygHjB5+g7159WvKanabWtrWXl5G0YpWVunmbut3MVvqs1uL/S1mJ3YkjnZsY/2YyOnvWRprw318sD6/pcse12EUKThshSeCyAdq0bm3SfWrvfK52yEhR90H1x3PTrWAttFY36XUKgOrdkGcYxgnj6VyUpTcFHne3l/kdM1ate3X9TopbK1s4rczGMmWFZfwI9/xpEvbZRsgCnH91RU2o2MUq6dI+5v9DjGO3eoBCEG1AAPTGKvDXnSjJ7lYt2rzS7skNwGX5+h7Z/+tXP3cJe2dQMsp6fyrbEDEnoak+yq6jeufwrpj7pyy948/DNGJQj4K4KZ9c8/pU1ppj3JJEed2e1dl/YliJS/2ZSxPOSTn8M1fSBVUAIoA6ADFXz9jPlOKTQLmEEiJTjoM5Oahn0y6jQrHuZWGCMHOPfk16CtuCOgpptCjExxhi3bcAKXOx8p5gLTyZEd2I2NyNm7A+lbmkaHDdxGSViybsDA5PA6/n0rrZdFjuVzOqk9cKuAP6mmRWq2jCNUVAf4VHeq50xctjL0iyjsNZtvL4US7hn1B9a6XxBdW8em5toN9zO7eYJlJR1HTGCD121zt3J9j1CGY/wnJyfer019Jrd8ZCgjWOMKwBzuPXcfc/0okk9xWvoZo1W8AEdza2kgXlQ6u4X6bmOKtWd4zLesLW3ik+zt86qcnJA7n3qd9PEi4VMt24p9vYSLBcgphjEVA79RWU1HlIlTVjGl5smI4wuR9Ku6U7C7tstjMi9+vIqaS1jFlGigYIxn1pyR7NQsSOnmp0+or0q7vTl6GdH+JH1OY1tjNGh2n5orkcjB/wBca5JgwXpyK6zUWMlpA/rFcn/yMa5xoD9nM+9MGTZt3fN0znHp7159DZnfV/gw/wC3vzOz+HUVvHHqE4Ym5CBSCvCrnPB98fpXY/aSRygb3rj/AADFm21OXHDAKD9OT/MV0vl85zWclepL+ugL+HH+upYaRSOFH0phbP8AhUBLL/8AXpPPYelOwiQ7c9CPwoxnnP8AOojOP7vNHmj+6aVhGPDawr99jn0FXbcJBOksKfMhzlueacsG452gfhirKQhR0oavowUrO6HrcE/8u8P4JSs7lsiGBQRgjy85pQuO2KkHIwMn6VHso9jT20+5MUR9CcNFAR9pXhk4+6awJ9R2lRFb2zj7o/ddMnGOtbGqSSQ+GJfKm8p2uAA3BPKnsetee3gmsjGHvCXfsUBxjp0rno0VOUl5/wCQ6lacUjej1RpdSN2ECyuxzg9ef/rirEvmyyXDMuY1JbDADJ4Pb6VzNvezvcpE7IU5AcAjJI65/AVuQTrDdZSdfnQbienTnnvXRKlytKxnGo273OouLHUPLtFPkYW3RVxnpz196i+x3iDJ8j8jWtfSM62uw4zAp6/WqnlSk5LE/U1GFh+6Wp11cU5TbcVf0M4m4U/ciOP9lqPMuR/BEPwNaJhY9cVNbabJczIgZVVmA3Y6VvKMYpyb0RmsQ27KEfuMyIXc5O0RDHqpqZbe8B6wfirVvLZWcC7DcsMdT5fX9auxaMJIXmUXJijyHbyThSOuT2rD20HtzfdL/Ir2r/lj+H+ZzS29/wBvsw/BqeIL8dFtvyaujFlbpwzOD/tR/wD16kW1i2syPyoz93FS68Fvf7n/AJDVV/yx/A5xbXUn7W35NUVxpmpzlUCwKDyZFzlfbn1+ldRsOOTTWbaOcVvy+ZP1n+5H7jjrzwxdXq4klhXuCueKmsPD11YW4iVrd+5LA5J/Cuje4jU9RmoWuVzxmnyyfVi+sL+SP3GcbbUFGALQewDVXlhv0V3Jtvu84DVqtMW6D86gdmPXBHpSdNtbiniG18EfuOWWGaNADJHsVjjdnjrRidL21w0ZJlXaOcZyK3ZYY2XaI4wM5xsBqrGkqXsbNHAIlYH/AFYyPxrapUk07X27mNOtJSV4R37HBajKkVjbDax3JMqe37w5z+Nc8UKrGxIIYnAB5H1Feg654butRmTyJ7CKJM7VG5epJ6BfU/rWKngK/PDX1iPozn/2WopThGOv6lVfa1LJpK19rdTZ8Cqq6HPyMuztj/vkf0rf4xiqOj6M2laabd7iFz5ZXKZ5JbPcVciHljH3setJWlKTQpe7GKYeXuPApDb+v6VbXDjIpWQYqiCiYABxTPLI9KusO1M2n0oArI5bAxUqk9yKckQI4NSrak88ZosIavtTxGWx2+lSLAw421MsZA/+tRYCOay+1aLJGYjLicHAGf4T6VxfiDw7ctawrBZznY5YkRE9fXj2rud8sJYRSumeTgkVnSXd2GybufnsJD/jWEIVYSbjbV36lTcWlc4OPR75SuzT7jI6EQtx+lWbTQ9Wmu932O4RQSHZoyOD1A4612Qvrocfap/+/hrVs5rnyQWuJST6ua2csR2X4majB9zOvkuIvsOAQRaoCrevNT2bSTJ84CepJqzeWzufNDs7D+8SazV82OXnP0oowcKai9xzfvXNuOFF+98x9e1XLVR9qi9nGPzrMju0WMGWRVx3Y4rSspVlniKMrYcZwc96jEr9zP0f5GlNrmRe8HaRDrWs3Ut1CJrSFSGDjgsTgD8s1S1bxQmneNJ9CXSbMaelxHFhd6jbIqbsqCFYEHoRir17q0XhX4W3c1vKo1C7YoMH5lZ84PthASPcV5BY30t3qEJmmkmnkmiG92LMcfKBn6YH4CuqC91GOjbue9+IbRF1iDS7OzQNd27zIwdgFeMquAuQoG1vTsOtc1H5qrcq5wVGMe+4V0vjSYRa5pgV2WVrG9CMhII4jJ5HsK5qW9W6a8uAm0uoYrnPORn9a5sYvc+cf/SkaUXr9/5EG9zxk/nTG5HI5qDzix+UU1jKemfyrblC45wPXFRMop0cU8jen1FWPsxHU5osK5UyR0phV27Zq+tuF5wKdsFAjO8hj1GKPs4PU5q8ygd6jIWgCr9ljH8IzUb2+OlXCABwKiYFhSAptBjvTCiDg8e9WHVhULKepFOwhhVk+7+lPjJYc0kb7Thhlf5VOFUjIINKwIiKUmypsUYHoaVhmdHIwGBmrEchPaqqcdanRqALiuT14qQttXdg4qmJlBxnOKbLcll4PAphcfcXIVyB6VRaQO3TgUkjqeO/rQkeSDVozbuSx7SRhc/hWrbyl3/1Zx2qhGQOnH1q9b3KRqR+tA0zRCgjGKp3FqANwAPvU63MYXNDXMbKQB+dJJltpkWlaPaa1qKWN5G0kMqsGRW2ngE8H2xn8K6a0+HNjoN42oRahdywwo3k20gBClhgknuM89ByBVDwoFPiO3cYGA/A/wB0iu11OVJBLu4GMKQ3Ld8fnSrr9xP0f5Ewdpo8q1rUjqHh4NHqsM0sLhYrTCGPG7aFZCuWwOhNOT4cW+ia/pV+96728mpQxoI0BXeXVgvzMDtx3G48H0ruh8P/AAxb38WqRaYvng7gnmHYX9dpOOPTp7VmeKrxmFhbQLJNLp14NRYwjO4o4YL6fdZvpwa1j8KJe4vieK1n8c6W8M7G0S2ljcW7AsGdJDxnIwViYe2PeojDpohnNu9wDs5EqD8OQfXFN1W1uNT1mPW0uHs7OCOJEiAZWlkUuytjA4xIe+Dk8nkVDH/qp/8AdH8xXNi/4a9Y/wDpSNaO/wB/5Ffag6Rge5qYIWAzwKI05JJz71IOM1qxDGO3gCo2Jp7mmdaQhhBPekIIFS4pjDjrQBA3HvTcd6lKj603p2oAjxmg4p2R1phIzTAY4Bqu4qySKgfqTQJlZgCelIMoeCRUhFIFzQIerbhwfzFPw3oP++qixjnNP3mlYdzHDBe1I0xxTG4GOcg81TupihAGTxUIbJmn5wGIH1pwnO3AbFZZlbnmnBzVog0hMqjjk1Kk5zzWcrHFTIxqkBoiU/8A6qlVxnrzVGNjVlPWmIuK7etSg9M5qqjdOtSCTpxTA1NP1l9DukvI7NrzHDRq4VsHqQTxkelSv4svdX1B5UsZLGzRgwST78rZzzg8D25z+lZkfPpVlcbabs4uL2YdbnRaj4xBRbfSVuJ7oqcefGUji9ctjn0wuaIrmB7VpJLQreuuHImyhyPm7ZPJNYKPsINX45CQDXO8PT8/vf8AmaKpI0Lm53uY+HiQ/IGzgD6Z4qAygKwWNBuGDjNVml5pN9R9Wp72/F/5le0kTiQY5PPajcp71X3c0obOcVuSSnBOSaYTikJppbigQpP1phb86Rn5IxTCckigBxamM3rTSSDTC3NAAWppPFISaac0CAtTCfehjTM8ZoADRjjilJwBQG6cUALt4NAQ46inK3DUZFAj/9k=\" />"
      ],
      "text/plain": [
       "<IPython.core.display.HTML object>"
      ]
     },
     "metadata": {},
     "output_type": "display_data"
    },
    {
     "data": {
      "text/markdown": [
       "A black SUV is parked in a garage. Two people are loading luggage into the vehicle. There are several bags and suitcases on the floor. The garage is empty except for the car and the people."
      ],
      "text/plain": [
       "<IPython.core.display.Markdown object>"
      ]
     },
     "execution_count": 85,
     "metadata": {},
     "output_type": "execute_result"
    }
   ],
   "source": [
    "from utils import plot_image_base64\n",
    "\n",
    "plot_image_base64(image_base64_list[0])\n",
    "Markdown(image_summaries[0])"
   ]
  },
  {
   "cell_type": "markdown",
   "id": "705d7ce4-f0ef-4a4a-816e-0392c6da4514",
   "metadata": {},
   "source": [
    "## Multi-Vector Retriever\n",
    "\n",
    "Use LangChain's [Multi-Vector Retriever](https://python.langchain.com/v0.2/docs/how_to/multi_vector/#associating-summaries-with-a-document-for-retrieval) to index text, table and image summaries, but retrieve raw images along with raw unsummarized texts and tables.\n",
    "\n",
    "Add raw docs and doc summaries to [Multi-Vector Retriever](https://python.langchain.com/v0.2/docs/how_to/multi_vector/#associating-summaries-with-a-document-for-retrieval): \n",
    "\n",
    "* Store the raw unsummarized texts, tables, and images in the `docstore`.\n",
    "* Store the summaries of the text, tables, and images in the `vectorstore` for efficient semantic retrieval.\n",
    "\n",
    "![Multi-Vector Retriever Overview](img/mvr_overview.png)\n",
    "\n",
    "> **Figure 2**: Image from [LangChain](https://blog.langchain.dev/semi-structured-multi-modal-rag/#multi-vector-retriever). Shows how a Multi-Vector Retriever can be used to associate summaries with a document for retrieval."
   ]
  },
  {
   "cell_type": "code",
   "execution_count": 86,
   "id": "5a2977d9-4044-4759-9ec2-c1e6ab527f73",
   "metadata": {},
   "outputs": [],
   "source": [
    "# Set to `True` to re-run the step to add documents \n",
    "# to the document store and summaries to the vector store.\n",
    "# Leave it as `False` to re-use existing document\n",
    "# store and vector store.\n",
    "RUN_ADD_DOCUMENTS_STEP = False"
   ]
  },
  {
   "cell_type": "markdown",
   "id": "7d91e155-350a-4b35-9842-0f7c849e6584",
   "metadata": {},
   "source": [
    "### Document Store\n",
    "\n",
    "We will use LangChain's \n",
    "[`LocalFileStore`](https://python.langchain.com/v0.2/docs/integrations/stores/file_system/) as the document store for our raw unsummarized texts, tables and images. It basically stores them in your local directory and we can just load them in again when re-running this notebook."
   ]
  },
  {
   "cell_type": "code",
   "execution_count": 87,
   "id": "44eb271d-38c7-4e75-9bd2-1f27e31b10c5",
   "metadata": {},
   "outputs": [],
   "source": [
    "from langchain.storage import LocalFileStore\n",
    "\n",
    "# Document store for the raw (unsummarized) contents \n",
    "# (e.g., texts, tables, images).\n",
    "document_store = LocalFileStore(\n",
    "    root_path=\"data/doc-store\"\n",
    ")"
   ]
  },
  {
   "cell_type": "code",
   "execution_count": 88,
   "id": "ab06302a-c580-47b9-9c75-56323b99a022",
   "metadata": {},
   "outputs": [],
   "source": [
    "from utils import remove_all_documents_from_store\n",
    "\n",
    "if RUN_ADD_DOCUMENTS_STEP:\n",
    "    # Clear all the previous documents from the document store,\n",
    "    # in preparation for adding the new documents.\n",
    "    remove_all_documents_from_store(\n",
    "        document_store\n",
    "    )"
   ]
  },
  {
   "cell_type": "code",
   "execution_count": 89,
   "id": "8cf8cfe0-8010-48a0-ad13-fb8b4ac62421",
   "metadata": {},
   "outputs": [
    {
     "name": "stdout",
     "output_type": "stream",
     "text": [
      "Document store: 26 raw documents\n"
     ]
    }
   ],
   "source": [
    "# Number of documents (e.g., raw unsummarized text, tables, images) \n",
    "# in the document store.\n",
    "document_count = sum(1 for _ in document_store.yield_keys())\n",
    "\n",
    "print(\n",
    "    f\"Document store: {document_count} raw documents\"\n",
    ")"
   ]
  },
  {
   "cell_type": "markdown",
   "id": "3aa07d5b-6467-451c-a2e9-86b61a690f76",
   "metadata": {},
   "source": [
    "### Vector Store\n",
    "\n",
    "We will use \n",
    "[Chroma](https://python.langchain.com/v0.2/docs/integrations/vectorstores/chroma/) \n",
    "vector database as our vector store to index the text, tables and image summaries embeddings. The Chroma database is store on your local file system and can just be loaded in the next time you re-run this notebook."
   ]
  },
  {
   "cell_type": "code",
   "execution_count": 90,
   "id": "262b7e22-6489-4995-91d5-917ec532aa1d",
   "metadata": {},
   "outputs": [],
   "source": [
    "from langchain_chroma import Chroma\n",
    "from langchain_google_genai import GoogleGenerativeAIEmbeddings\n",
    "\n",
    "\n",
    "# Vector store to embed the texts, tables, and images summaries.\n",
    "vector_store = Chroma(    \n",
    "    collection_name=\"multi_modal_rag\", \n",
    "    embedding_function=GoogleGenerativeAIEmbeddings(\n",
    "        model=\"models/text-embedding-004\"\n",
    "    ),\n",
    "    persist_directory='data/vector-store',\n",
    ")"
   ]
  },
  {
   "cell_type": "code",
   "execution_count": 91,
   "id": "9f4a6c70-740c-4d02-827d-e544021e0e03",
   "metadata": {},
   "outputs": [],
   "source": [
    "if RUN_ADD_DOCUMENTS_STEP:\n",
    "    # Delete existing collection and recreate a new empty one.\n",
    "    # Remove the old summaries to make way for the new summaries.\n",
    "    vector_store.reset_collection()"
   ]
  },
  {
   "cell_type": "code",
   "execution_count": 92,
   "id": "af1c3f32-c0ae-4eef-96b0-eb5e2e054570",
   "metadata": {},
   "outputs": [
    {
     "name": "stdout",
     "output_type": "stream",
     "text": [
      "Vector store: 26 summary embeddings\n"
     ]
    }
   ],
   "source": [
    "embedding_count = vector_store._collection.count()\n",
    "\n",
    "print(\n",
    "    f\"Vector store: {embedding_count} summary embeddings\"\n",
    ")"
   ]
  },
  {
   "cell_type": "markdown",
   "id": "a4274914-1053-4412-b5bc-fe32ae7b7589",
   "metadata": {},
   "source": [
    "### Add raw documents and summaries"
   ]
  },
  {
   "cell_type": "code",
   "execution_count": 96,
   "id": "ecb9e95f-1961-4bc3-8cb0-f06a7825738b",
   "metadata": {},
   "outputs": [],
   "source": [
    "from typing import Optional\n",
    "\n",
    "from langchain.storage import LocalFileStore\n",
    "from langchain_core.vectorstores import VectorStore\n",
    "from langchain.retrievers.multi_vector import MultiVectorRetriever\n",
    "\n",
    "from utils import add_documents\n",
    "\n",
    "\n",
    "def create_multi_vector_retriever(\n",
    "    vector_store: VectorStore,\n",
    "    document_store: LocalFileStore,\n",
    "    text_summaries: Optional[list[str]] = None, \n",
    "    raw_texts: Optional[list[str]] = None, \n",
    "    table_summaries: Optional[list[str]] = None, \n",
    "    raw_tables: Optional[list[str]] = None, \n",
    "    image_summaries: Optional[list[str]] = None, \n",
    "    raw_images_base64: Optional[list[str]] = None, \n",
    ") -> MultiVectorRetriever:\n",
    "    \"\"\"\n",
    "    Create a multi-vector retriever that indexes \n",
    "    summaries, but returns raw texts, tables or images.\n",
    "\n",
    "    Args:\n",
    "        vector_store: Vector store to store the summaries embeddings.\n",
    "        document_store: Document store to store the raw \n",
    "            unsummarized contents.\n",
    "        \n",
    "    Returns:\n",
    "        A multi-vector retriever.\n",
    "        \n",
    "    \"\"\"\n",
    "    # Key used for the document ID values.\n",
    "    id_key = \"doc_id\"\n",
    "        \n",
    "    retriever = MultiVectorRetriever(\n",
    "        vectorstore=vector_store,\n",
    "        docstore=document_store,\n",
    "        id_key=id_key,\n",
    "    )\n",
    "\n",
    "    # Add texts, tables, and images.\n",
    "    # Check that summaries is not `None` before adding.    \n",
    "    \n",
    "    if text_summaries:\n",
    "        add_documents(            \n",
    "            retriever=retriever, \n",
    "            summaries=text_summaries, \n",
    "            raw_contents=raw_texts\n",
    "        )  \n",
    "        \n",
    "    if table_summaries:\n",
    "        add_documents(            \n",
    "            retriever=retriever, \n",
    "            summaries=table_summaries, \n",
    "            raw_contents=raw_tables\n",
    "        )\n",
    "        \n",
    "    if image_summaries:\n",
    "        add_documents(            \n",
    "            retriever=retriever, \n",
    "            summaries=image_summaries, \n",
    "            raw_contents=raw_images_base64\n",
    "        )\n",
    "\n",
    "    return retriever"
   ]
  },
  {
   "cell_type": "code",
   "execution_count": 97,
   "id": "ebde6495-578c-4edc-997d-40e5935bf6ad",
   "metadata": {},
   "outputs": [],
   "source": [
    "if RUN_ADD_DOCUMENTS_STEP:\n",
    "    # Create multi-vector retriever by adding summaries \n",
    "    # to the vector store and raw unsummarized contents to the \n",
    "    # document store.\n",
    "    retriever_multi_vector = create_multi_vector_retriever(\n",
    "        vector_store=vector_store,\n",
    "        document_store=document_store,\n",
    "        text_summaries=text_summaries,\n",
    "        raw_texts=texts,\n",
    "        table_summaries=table_summaries,\n",
    "        raw_tables=tables,\n",
    "        image_summaries=image_summaries,\n",
    "        raw_images_base64=image_base64_list,\n",
    "    )\n",
    "else:\n",
    "    # Create multi vector retriever with existing \n",
    "    # vector store and document store. \n",
    "    # No need to add documents or summaries.\n",
    "    retriever_multi_vector = create_multi_vector_retriever(\n",
    "        vector_store=vector_store, \n",
    "        document_store=document_store\n",
    "    )"
   ]
  },
  {
   "cell_type": "markdown",
   "id": "5de014ea-6211-4005-b9f7-e983ed03cb35",
   "metadata": {},
   "source": [
    "### Test the retriever\n",
    "\n",
    "Before we integrate the multi-vector retriever with a LLM, let's try it out on its own first.\n",
    "\n",
    "Let's see if we can get back images that are relevant to our query."
   ]
  },
  {
   "cell_type": "code",
   "execution_count": 109,
   "id": "49b77de0-2e48-4625-8a5a-de7b01746406",
   "metadata": {},
   "outputs": [],
   "source": [
    "query = \"A bowl of ramen\"\n",
    "\n",
    "retrieved_documents = retriever_multi_vector.invoke(\n",
    "    input=query,\n",
    ")"
   ]
  },
  {
   "cell_type": "markdown",
   "id": "7c46cf46-e27a-49d7-9129-7f040d0932c6",
   "metadata": {},
   "source": [
    "For simplicity, let's just plot the first image that was retrieved. The image is encode in Base64."
   ]
  },
  {
   "cell_type": "code",
   "execution_count": 110,
   "id": "ba1215c3-ad5c-4428-afd8-c131925dac3c",
   "metadata": {
    "scrolled": true
   },
   "outputs": [
    {
     "data": {
      "text/html": [
       "<img src=\"data:image/jpeg;base64,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\" />"
      ],
      "text/plain": [
       "<IPython.core.display.HTML object>"
      ]
     },
     "metadata": {},
     "output_type": "display_data"
    }
   ],
   "source": [
    "plot_image_base64(\n",
    "    retrieved_documents[0].decode()\n",
    ")"
   ]
  },
  {
   "cell_type": "markdown",
   "id": "3fb5691b-a259-4d1a-bcee-2cf91b6b50ec",
   "metadata": {},
   "source": [
    "Find the summary associated with the image from the vector store:"
   ]
  },
  {
   "cell_type": "code",
   "execution_count": 111,
   "id": "33b5b3f4-7d81-40da-ac86-9614f07be324",
   "metadata": {},
   "outputs": [
    {
     "data": {
      "text/plain": [
       "Document(metadata={'doc_id': 'afc8fe74-47ca-4760-98e7-0f7355c3b4f7'}, page_content='A bowl of ramen with pork, noodles, and green onions. There is also a side dish of green onions and a cup of green tea.  The meal is on a wooden table.')"
      ]
     },
     "execution_count": 111,
     "metadata": {},
     "output_type": "execute_result"
    }
   ],
   "source": [
    "retrieved_summaries = vector_store.similarity_search(\n",
    "    query=query, \n",
    "    k=1\n",
    ")\n",
    "\n",
    "retrieved_summaries[0]"
   ]
  },
  {
   "cell_type": "markdown",
   "id": "7ac6f31d-6f57-4258-b2df-095447159c6a",
   "metadata": {},
   "source": [
    "Let's see if it can retrieve tables relevant to our query."
   ]
  },
  {
   "cell_type": "code",
   "execution_count": 107,
   "id": "5dbf3ef3-26d0-4228-a35f-a3d7af6b52e9",
   "metadata": {},
   "outputs": [
    {
     "data": {
      "text/plain": [
       "'Conversation Detail description Complex reasoning All OpenFlamingo [5] BLIP-2 [28] LLaVA LLaVA† 19.3 54.6 57.3 58.8 0.5 1.4 1.9 0.6 19.0 29.1 52.5 49.2 0.5 1.2 6.3 0.8 19.1 32.9 81.7 81.4 0.7 0.7 1.8 0.3 19.1 38.1 67.3 66.7 0.4 1.0 2.0 0.3'"
      ]
     },
     "execution_count": 107,
     "metadata": {},
     "output_type": "execute_result"
    }
   ],
   "source": [
    "query = \"Table comparing performance of LLaVA to other models\"\n",
    "\n",
    "retrieved_documents = retriever_multi_vector.invoke(\n",
    "    input=query,\n",
    ")\n",
    "\n",
    "retrieved_documents[0].decode()"
   ]
  },
  {
   "cell_type": "markdown",
   "id": "4814f49a-20a1-4c4e-a94d-7ade14ad5b37",
   "metadata": {},
   "source": [
    "Get the summary associated with the table from the vector store:"
   ]
  },
  {
   "cell_type": "code",
   "execution_count": 106,
   "id": "ee5308f6-91df-40db-974f-844418e46468",
   "metadata": {},
   "outputs": [
    {
     "data": {
      "text/plain": [
       "Document(metadata={'doc_id': 'd413ce8e-6489-457e-b3b1-71f8bb867e78'}, page_content='This table compares the performance of four different language models (OpenFlamingo, BLIP-2, LLaVA, and LLaVA†) on four tasks: Conversation Detail description, Complex reasoning, All, and OpenFlamingo. The models are evaluated based on their accuracy scores, with higher scores indicating better performance. LLaVA and LLaVA† consistently outperform the other models across all tasks. \\n')"
      ]
     },
     "execution_count": 106,
     "metadata": {},
     "output_type": "execute_result"
    }
   ],
   "source": [
    "retrieved_summaries = vector_store.similarity_search(\n",
    "    query=query, \n",
    "    k=1\n",
    ")\n",
    "\n",
    "retrieved_summaries[0]"
   ]
  },
  {
   "cell_type": "markdown",
   "id": "67dd40b2-d2a5-4c11-870a-0e84bb690360",
   "metadata": {},
   "source": [
    "## Retrieval Augmented Generation (RAG)\n",
    "\n",
    "Let’s put it all together into a chain that takes a question, retrieves relevant documents, constructs a prompt, passes that to a model, and parses the output.\n",
    "\n",
    "### Multi-Modal Prompt\n",
    "\n",
    "We will need to build a prompt message that includes a context with zero or more images, tables and texts. This prompt message will then be passed into Gemini 1.5 Flash to synthesize an answer.\n",
    "\n",
    "> See also: [How to pass multimodal data directly to models](https://python.langchain.com/v0.2/docs/how_to/multimodal_inputs/)"
   ]
  },
  {
   "cell_type": "code",
   "execution_count": 112,
   "id": "6747d181-544d-4906-963a-cdbe2eebdebb",
   "metadata": {},
   "outputs": [],
   "source": [
    "from typing import Any\n",
    "\n",
    "from langchain_core.messages.base import BaseMessage\n",
    "\n",
    "from utils import PromptContext\n",
    "\n",
    "\n",
    "def create_image_text_messages(\n",
    "    input: dict[str, Any]\n",
    ") -> list[BaseMessage]:\n",
    "    \"\"\"\n",
    "    Create a list of messages that consists of zero or \n",
    "    more images, texts and tables.\n",
    "\n",
    "    Args:\n",
    "        input: A dictionary that consists of the following keys:\n",
    "            - `question`: The user's question or query.\n",
    "            - `context`: The context dictionary with the keys:\n",
    "                * `base64_images`: List of images encoded as Base64 string.\n",
    "                * `texts_or_tables`: List of texts or tables string contents.\n",
    "\n",
    "    Returns:\n",
    "        A list of messages that can be passed directly into a chat model.\n",
    "    \"\"\"\n",
    "    question = input[\"question\"]\n",
    "    context: PromptContext = input[\"context\"]\n",
    "    \n",
    "    base64_images = context[\"base64_images\"]\n",
    "    texts_or_tables = context[\"texts_or_tables\"]    \n",
    "\n",
    "    # Combine list of texts and tables into one string \n",
    "    # to insert into the prompt.\n",
    "    joined_text_or_tables = \"\\n\".join(texts_or_tables)\n",
    "    \n",
    "    messages = []\n",
    "\n",
    "    # Add image(s) encoded as Base64 string, if any.\n",
    "    if base64_images:\n",
    "        for base64_image_str in base64_images:\n",
    "            image_type_message = {\n",
    "                \"type\": \"image_url\",\n",
    "                \"image_url\": {\n",
    "                    \"url\": f\"data:image/jpeg;base64,{base64_image_str}\"\n",
    "                },\n",
    "            }\n",
    "            messages.append(image_type_message)\n",
    "    \n",
    "    # Add the texts or tables as context.\n",
    "    text_type_message = {\n",
    "        \"type\": \"text\",\n",
    "        \"text\": (\n",
    "            \"You are an assistant for question-answering tasks. \"\n",
    "            \"Use the following pieces of retrieved context to answer \"\n",
    "            \"the question. The context can include texts, tables \"\n",
    "            \"and images. If you don't know the answer, say that you \"\n",
    "            \"don't know.\\n\\n\"\n",
    "            f\"Question: {question}\\n\\n\"\n",
    "            \"Texts or tables:\\n\"\n",
    "            f\"{joined_text_or_tables}\"            \n",
    "        ),\n",
    "    }\n",
    "    messages.append(text_type_message)\n",
    "    \n",
    "    return [\n",
    "        HumanMessage(\n",
    "            content=messages\n",
    "        )\n",
    "    ]"
   ]
  },
  {
   "cell_type": "markdown",
   "id": "5c57b772-e9f1-4975-86a3-7356cc6a43d3",
   "metadata": {},
   "source": [
    "### Build the RAG chain"
   ]
  },
  {
   "cell_type": "code",
   "execution_count": 113,
   "id": "a8e0ee94-320c-42b9-96d9-6dfdc9958fc1",
   "metadata": {},
   "outputs": [],
   "source": [
    "from langchain_core.runnables import (\n",
    "    RunnableSequence, \n",
    "    RunnableLambda, \n",
    "    RunnablePassthrough\n",
    ")\n",
    "\n",
    "from utils import split_image_text_types\n",
    "\n",
    "\n",
    "def create_multi_modal_rag_chain(\n",
    "    retriever: MultiVectorRetriever\n",
    ") -> RunnableSequence:\n",
    "    \"\"\"\n",
    "    Creates a chain that can perform multi-modal RAG.\n",
    "\n",
    "    Args:\n",
    "        retriever: A multi-vector retriever that cwill \n",
    "            retrieve the relevant documents.\n",
    "        \n",
    "    Returns:\n",
    "        A runnable chain.\n",
    "    \"\"\"\n",
    "    # Multi-modal LLM\n",
    "    model = ChatGoogleGenerativeAI(\n",
    "        temperature=0, \n",
    "        model=\"gemini-1.5-flash\", \n",
    "        max_tokens=1024\n",
    "    )\n",
    "\n",
    "    # RAG pipeline\n",
    "    chain = (\n",
    "        {\n",
    "            \"context\": (\n",
    "                retriever \n",
    "                | RunnableLambda(split_image_text_types)\n",
    "            ),\n",
    "            \"question\": RunnablePassthrough()\n",
    "        }\n",
    "        | RunnableLambda(create_image_text_messages)        \n",
    "        | model\n",
    "        | StrOutputParser()\n",
    "    )\n",
    "\n",
    "    return chain    "
   ]
  },
  {
   "cell_type": "code",
   "execution_count": 114,
   "id": "e60f0831-95de-4cb6-8ffb-d7f195864cc4",
   "metadata": {},
   "outputs": [],
   "source": [
    "# Create RAG chain\n",
    "multimodal_rag_chain = create_multi_modal_rag_chain(\n",
    "    retriever_multi_vector\n",
    ")"
   ]
  },
  {
   "cell_type": "markdown",
   "id": "14ec472a-6ea8-41e7-bd65-0aae71eef809",
   "metadata": {},
   "source": [
    "### Test out the RAG chain\n",
    "\n",
    "Finally, let's run our multi-modal RAG chain and test it out with some queries.\n",
    "\n",
    "First, let's try asking it about an image in the PDF document:"
   ]
  },
  {
   "cell_type": "code",
   "execution_count": 136,
   "id": "fe31b7c0-e2a6-4920-ae7b-bf291a057e27",
   "metadata": {
    "scrolled": true
   },
   "outputs": [
    {
     "data": {
      "text/markdown": [
       "> The unusual aspect of the image is a man ironing clothes on the back of a minivan or van. This is not a typical place to perform this activity, as one would usually iron clothes in a more stationary and safe location, such as a home, using a regular ironing board. The scene depicted in the image is peculiar as it involves a makeshift ironing setup on a vehicle, which can be both unsafe and unconventional. Additionally, it is not clear how the man is able to maintain balance and stability while ironing clothes in such an unstable environment."
      ],
      "text/plain": [
       "<IPython.core.display.Markdown object>"
      ]
     },
     "execution_count": 136,
     "metadata": {},
     "output_type": "execute_result"
    }
   ],
   "source": [
    "query = (\n",
    "    \"What is unusual about the image of a man \"\n",
    "    \"ironing clothes on the back of a yellow van?\"\n",
    ")\n",
    "response = multimodal_rag_chain.invoke(\n",
    "    input=query\n",
    ")\n",
    "Markdown(\"> \" + response)"
   ]
  },
  {
   "cell_type": "markdown",
   "id": "f6a2fe97-154d-4fab-bf58-a443f33380f7",
   "metadata": {},
   "source": [
    "Let's take a look at the image that Gemini 1.5 Flash was describing to us:"
   ]
  },
  {
   "cell_type": "code",
   "execution_count": 137,
   "id": "a9eed5c0-cff0-4f29-8c50-b090858ebce0",
   "metadata": {},
   "outputs": [
    {
     "data": {
      "text/html": [
       "<img src=\"data:image/jpeg;base64,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\" />"
      ],
      "text/plain": [
       "<IPython.core.display.HTML object>"
      ]
     },
     "metadata": {},
     "output_type": "display_data"
    }
   ],
   "source": [
    "retrieved_raw_docs = retriever_multi_vector.invoke(\n",
    "    input=query    \n",
    ")\n",
    "\n",
    "plot_image_base64(\n",
    "    retrieved_raw_docs[0].decode()\n",
    ")"
   ]
  },
  {
   "cell_type": "markdown",
   "id": "8fc56973-81a6-4669-a3e9-370c96bc0323",
   "metadata": {},
   "source": [
    "The summary of the image that was used to retrieve the raw image:"
   ]
  },
  {
   "cell_type": "code",
   "execution_count": 138,
   "id": "72c07730-ed40-4275-a001-998bdcff41fe",
   "metadata": {},
   "outputs": [
    {
     "data": {
      "text/plain": [
       "Document(metadata={'doc_id': '793b12f8-1f74-452e-85b2-bc17a9245e33'}, page_content='A man in a yellow shirt is ironing clothes on a yellow SUV taxi in the middle of the street, while a yellow taxi drives by in the background.')"
      ]
     },
     "execution_count": 138,
     "metadata": {},
     "output_type": "execute_result"
    }
   ],
   "source": [
    "retrieved_summary_docs = vector_store.similarity_search(\n",
    "    query=query\n",
    ")\n",
    "\n",
    "retrieved_summary_docs[0]"
   ]
  },
  {
   "cell_type": "markdown",
   "id": "8123f8b1-27a4-43aa-af27-713ce9dbdfa3",
   "metadata": {},
   "source": [
    "Next, let's ask the chat model about a table in the PDF document:"
   ]
  },
  {
   "cell_type": "code",
   "execution_count": 139,
   "id": "596a1225-50a0-4967-be7a-6556298c27cb",
   "metadata": {},
   "outputs": [
    {
     "data": {
      "text/markdown": [
       "> LLaVA outperformed BLIP-2 and OpenFlamingo on the LLaVA-Bench (In-the-Wild) benchmark. It achieved a score that was 29% higher than BLIP-2 and 48% higher than OpenFlamingo. \n"
      ],
      "text/plain": [
       "<IPython.core.display.Markdown object>"
      ]
     },
     "execution_count": 139,
     "metadata": {},
     "output_type": "execute_result"
    }
   ],
   "source": [
    "query = (\n",
    "    \"How did LLaVA perform compared to \"\n",
    "    \"BLIP-2 and OpenFlamingo?\"\n",
    ")\n",
    "response = multimodal_rag_chain.invoke(\n",
    "    input=query\n",
    ")\n",
    "Markdown(\"> \" + response)"
   ]
  },
  {
   "cell_type": "markdown",
   "id": "270614d6-bafa-4f7f-9f59-e0bd7bb828e2",
   "metadata": {},
   "source": [
    "The table that was used to provide the context to Gemini 1.5 Flash to synthesize an answer:"
   ]
  },
  {
   "cell_type": "code",
   "execution_count": 140,
   "id": "c2189a3d-2683-48f7-ac04-58a7bb82d8d5",
   "metadata": {},
   "outputs": [
    {
     "data": {
      "text/plain": [
       "'Conversation Detail description Complex reasoning All OpenFlamingo [5] BLIP-2 [28] LLaVA LLaVA† 19.3 54.6 57.3 58.8 0.5 1.4 1.9 0.6 19.0 29.1 52.5 49.2 0.5 1.2 6.3 0.8 19.1 32.9 81.7 81.4 0.7 0.7 1.8 0.3 19.1 38.1 67.3 66.7 0.4 1.0 2.0 0.3'"
      ]
     },
     "execution_count": 140,
     "metadata": {},
     "output_type": "execute_result"
    }
   ],
   "source": [
    "retrieved_raw_docs = retriever_multi_vector.invoke(\n",
    "    input=query    \n",
    ")\n",
    "\n",
    "retrieved_raw_docs[1].decode()"
   ]
  },
  {
   "cell_type": "markdown",
   "id": "29069630-145a-407b-937c-9a1479b69788",
   "metadata": {},
   "source": [
    "The summary of the table that was used to retrieve the actual table contents:"
   ]
  },
  {
   "cell_type": "code",
   "execution_count": 141,
   "id": "c0fe5842-cd5e-4d94-b0d3-785a76aeb2b4",
   "metadata": {},
   "outputs": [
    {
     "data": {
      "text/plain": [
       "Document(metadata={'doc_id': 'd413ce8e-6489-457e-b3b1-71f8bb867e78'}, page_content='This table compares the performance of four different language models (OpenFlamingo, BLIP-2, LLaVA, and LLaVA†) on four tasks: Conversation Detail description, Complex reasoning, All, and OpenFlamingo. The models are evaluated based on their accuracy scores, with higher scores indicating better performance. LLaVA and LLaVA† consistently outperform the other models across all tasks. \\n')"
      ]
     },
     "execution_count": 141,
     "metadata": {},
     "output_type": "execute_result"
    }
   ],
   "source": [
    "retrieved_summary_docs = vector_store.similarity_search(\n",
    "    query=query\n",
    ")\n",
    "\n",
    "retrieved_summary_docs[1]"
   ]
  },
  {
   "cell_type": "code",
   "execution_count": 142,
   "id": "b7d1b197-2ff3-45c4-a3cf-85d6d33d24b9",
   "metadata": {},
   "outputs": [
    {
     "data": {
      "text/markdown": [
       "> The LLaVA paper concluded that visual instruction tuning is effective for improving multimodal models' ability to follow instructions and complete visual tasks. LLaVA, a multimodal model trained on language-image instruction-following data, achieved state-of-the-art accuracy on ScienceQA and demonstrated excellent visual chat capabilities. The paper also introduced two benchmarks for evaluating multimodal instruction-following capabilities, highlighting LLaVA's impressive performance compared to other models. The authors acknowledged that LLaVA is still under development and has limitations, but they hope it will serve as a solid baseline for future research on building more capable multimodal models. \n"
      ],
      "text/plain": [
       "<IPython.core.display.Markdown object>"
      ]
     },
     "execution_count": 142,
     "metadata": {},
     "output_type": "execute_result"
    }
   ],
   "source": [
    "query = (\n",
    "    \"What was the conclusion of the LLaVA paper?\"\n",
    ")\n",
    "response = multimodal_rag_chain.invoke(\n",
    "    input=query\n",
    ")\n",
    "Markdown(\"> \" + response)"
   ]
  },
  {
   "cell_type": "markdown",
   "id": "ddef3eeb-71de-4a6d-8d74-e3fd9a0bf442",
   "metadata": {},
   "source": [
    "## Conclusion\n",
    "\n",
    "In this notebook, we have seen how you can perform RAG over texts, tables and images using a multi-modal model such as Gemini 1.5 Flash. We have also seen how to use LangChain's MultiVectorRetriever together with image summaries to improve RAG over images.\n",
    "\n",
    "### Further readings\n",
    "\n",
    "See also the following LangChain blog posts and cookbooks for more info on multi-modal RAG:\n",
    "* [Multi-Vector Retriever for RAG on tables, text, and images](https://blog.langchain.dev/semi-structured-multi-modal-rag/)\n",
    "* [Multi-modal RAG on slide decks](https://blog.langchain.dev/multi-modal-rag-template/)\n",
    "* [LangChain Cookbooks](https://github.com/langchain-ai/langchain/blob/master/cookbook/README.md)\n"
   ]
  }
 ],
 "metadata": {
  "kernelspec": {
   "display_name": "Python 3 (ipykernel)",
   "language": "python",
   "name": "python3"
  },
  "language_info": {
   "codemirror_mode": {
    "name": "ipython",
    "version": 3
   },
   "file_extension": ".py",
   "mimetype": "text/x-python",
   "name": "python",
   "nbconvert_exporter": "python",
   "pygments_lexer": "ipython3",
   "version": "3.11.9"
  }
 },
 "nbformat": 4,
 "nbformat_minor": 5
}
